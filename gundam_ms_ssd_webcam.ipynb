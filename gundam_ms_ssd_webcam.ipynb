{
 "cells": [
  {
   "cell_type": "markdown",
   "metadata": {},
   "source": [
    "#  Recognize Gundam's Mobile Suit  with SSD.\n",
    "\n",
    "Recognize mobile suits that appear in Mobile Suit Gundam using Chainer CV's SSD."
   ]
  },
  {
   "cell_type": "code",
   "execution_count": null,
   "metadata": {},
   "outputs": [],
   "source": [
    "import chainer\n",
    "from chainercv.links import SSD300\n",
    "from chainercv import utils\n",
    "\n",
    "import pickle\n",
    "import numpy as np\n",
    "from pathlib import Path\n",
    "\n",
    "import cv2\n",
    "from PIL import Image,ImageDraw"
   ]
  },
  {
   "cell_type": "code",
   "execution_count": 2,
   "metadata": {},
   "outputs": [],
   "source": [
    "# draw bounding-box and label\n",
    "def draw_bbox(img, bbox, labels, score, label_color, padding=1):\n",
    "    dr = ImageDraw.Draw(img)\n",
    "    for i,axiz in enumerate(bbox):\n",
    "        label = list(label_color.keys())[labels[i]]\n",
    "        axiz = np.int32(axiz)\n",
    "        \n",
    "        ms_name, ms_color = label_color[label]\n",
    "        ms_color = ms_color[2],ms_color[1],ms_color[0]\n",
    "        label_score = \"{0} {1}, {2:2.2f}\".format(label, ms_name , score[i])\n",
    "        stp = (axiz[1],axiz[0])\n",
    "        edp = (axiz[3],axiz[2])\n",
    "        edp_back = (axiz[3],axiz[0]+10)\n",
    "        \n",
    "        rect = Image.new(\"RGB\", (axiz[3]-axiz[1],axiz[2]-axiz[0]), color=ms_color)\n",
    "        mask=Image.new('L', rect.size, color=64)\n",
    "        img.paste(rect, stp , mask=mask)\n",
    "        \n",
    "        dr.rectangle((stp,edp_back),fill=ms_color)\n",
    "        dr.rectangle((stp,edp),outline=ms_color)\n",
    "        dr.rectangle(((stp[0]-padding, stp[1]-padding),(edp[0]+padding,edp[1]+padding)),outline=ms_color)\n",
    "        \n",
    "        stp_text = (axiz[1]+5,axiz[0])\n",
    "        dr.text(stp_text, label_score)\n",
    "    return img"
   ]
  },
  {
   "cell_type": "code",
   "execution_count": 3,
   "metadata": {},
   "outputs": [],
   "source": [
    "# label & color file path\n",
    "LABEL_FILE = Path(\"ms_label_color.pkl\")\n",
    "\n",
    "# test img file path\n",
    "TEST_IMG_DIR = Path(\"test_image\")\n",
    "\n",
    "# pre-trained model file path\n",
    "### download model file from here and put it in the current directory.\n",
    "### https://drive.google.com/drive/folders/1L3KyEe_bc9LaFUmayfehCJ6qO35iupkj\n",
    "MODEL_FILE = Path(\"gundam_ssd300\")\n",
    "\n",
    "# using gpu no\n",
    "GPU_NUM = 0"
   ]
  },
  {
   "cell_type": "code",
   "execution_count": 4,
   "metadata": {},
   "outputs": [
    {
     "data": {
      "text/plain": [
       "{'MS-06': ['ZAKU II', (128, 0, 0)],\n",
       " 'MS-07': ['GOUF', (0, 128, 0)],\n",
       " 'MS-09': ['DOM', (128, 128, 0)],\n",
       " 'MS-14': ['GELGOOG', (0, 0, 128)],\n",
       " 'MS-15': ['GYAN', (128, 0, 128)],\n",
       " 'MSM-03': ['GOGG', (0, 128, 128)],\n",
       " 'MSM-04': ['ACGUY', (128, 128, 128)],\n",
       " 'MSM-07': ['ZGOK', (64, 0, 0)],\n",
       " 'MSN-02': ['ZEONG', (192, 0, 0)],\n",
       " 'RGM-79': ['GM', (64, 128, 0)],\n",
       " 'RX-75': ['GUNTANK', (192, 128, 0)],\n",
       " 'RX-77': ['GUNCANON', (64, 0, 128)],\n",
       " 'RX-78': ['GUNDAM', (192, 0, 128)]}"
      ]
     },
     "execution_count": 4,
     "metadata": {},
     "output_type": "execute_result"
    }
   ],
   "source": [
    "# Loading label & color file\n",
    "with open(LABEL_FILE, 'rb') as f:\n",
    "    LABEL_NAME_COLOR_MAP = pickle.load(f)\n",
    "LABEL_NAME_COLOR_MAP"
   ]
  },
  {
   "cell_type": "code",
   "execution_count": 5,
   "metadata": {},
   "outputs": [],
   "source": [
    "# Loading model weight\n",
    "model = SSD300(n_fg_class=len(LABEL_NAME_COLOR_MAP), pretrained_model=MODEL_FILE)\n",
    "if GPU_NUM >= 0:\n",
    "    chainer.cuda.get_device_from_id(GPU_NUM).use()\n",
    "    model.to_gpu()"
   ]
  },
  {
   "cell_type": "code",
   "execution_count": 6,
   "metadata": {},
   "outputs": [],
   "source": [
    "cap = cv2.VideoCapture(0)\n",
    "\n",
    "V_WID = 1280\n",
    "cap.set(cv2.CAP_PROP_FRAME_WIDTH, V_WID)\n",
    "cap.set(cv2.CAP_PROP_FRAME_HEIGHT, int(V_WID/4*3))\n",
    "\n",
    "while(cap.isOpened()):\n",
    "    ret, frame = cap.read()\n",
    "    imgcv_org = cv2.cvtColor(frame, cv2.COLOR_BGR2RGB)\n",
    "    imgcv = np.float32(imgcv_org.transpose(2,0,1))\n",
    "\n",
    "    bboxes, labels, scores = model.predict([imgcv])\n",
    "    bbox, label, score = bboxes[0], labels[0], scores[0]\n",
    "\n",
    "    out_img = draw_bbox(Image.fromarray(np.uint8(frame)), bbox, label, score, LABEL_NAME_COLOR_MAP)\n",
    "    \n",
    "    cv2.imshow('frame',np.uint8(out_img))\n",
    "\n",
    "    if cv2.waitKey(1) & 0xFF == ord('q'):\n",
    "        break\n",
    "cap.release()\n",
    "cv2.destroyAllWindows()"
   ]
  },
  {
   "cell_type": "code",
   "execution_count": null,
   "metadata": {},
   "outputs": [],
   "source": []
  }
 ],
 "metadata": {
  "kernelspec": {
   "display_name": "Python 3",
   "language": "python",
   "name": "python3"
  },
  "language_info": {
   "codemirror_mode": {
    "name": "ipython",
    "version": 3
   },
   "file_extension": ".py",
   "mimetype": "text/x-python",
   "name": "python",
   "nbconvert_exporter": "python",
   "pygments_lexer": "ipython3",
   "version": "3.6.5"
  }
 },
 "nbformat": 4,
 "nbformat_minor": 2
}
